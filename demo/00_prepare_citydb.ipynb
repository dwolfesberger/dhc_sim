{
 "cells": [
  {
   "cell_type": "markdown",
   "metadata": {},
   "source": []
  },
  {
   "cell_type": "markdown",
   "metadata": {},
   "source": [
    "### Create postgresql database\n",
    "* open pgAdmin\n",
    "* connect to server \"pgsql\"\n",
    "* create database \"05_demo\"\n",
    "* give \"all\" privileges in \"Security\" to user \"david\"\n",
    "* create following extensions: \"postgis\", \"postgis_raster\", \"postgis_sfcgal\""
   ]
  },
  {
   "cell_type": "markdown",
   "metadata": {},
   "source": [
    "### Setup 3DCityDB scheme\n",
    "* edit \"CONNECTION_DETAILS. bat\" from 3DCityDB-Importer-Exporter ShellScripts\n",
    "    * set CITYDB=05_demo\n",
    "* run \"CREATE_DB.bat\"\n",
    "    * set EPSG of CRS to be used (vienna ogd = EPSG:31256)"
   ]
  },
  {
   "cell_type": "markdown",
   "metadata": {},
   "source": []
  }
 ],
 "metadata": {
  "kernelspec": {
   "display_name": "teaserplus-dev",
   "language": "python",
   "name": "python3"
  },
  "language_info": {
   "name": "python",
   "version": "3.9.19"
  }
 },
 "nbformat": 4,
 "nbformat_minor": 2
}
